{
  "nbformat": 4,
  "nbformat_minor": 0,
  "metadata": {
    "colab": {
      "provenance": [],
      "authorship_tag": "ABX9TyObBEnH2aW7Ra2tyzqj6H1V",
      "include_colab_link": true
    },
    "kernelspec": {
      "name": "python3",
      "display_name": "Python 3"
    },
    "language_info": {
      "name": "python"
    }
  },
  "cells": [
    {
      "cell_type": "markdown",
      "metadata": {
        "id": "view-in-github",
        "colab_type": "text"
      },
      "source": [
        "<a href=\"https://colab.research.google.com/github/kavitaraikwar07/Python/blob/main/KAVITA_RAIKWAR(AI_%26_DS).ipynb\" target=\"_parent\"><img src=\"https://colab.research.google.com/assets/colab-badge.svg\" alt=\"Open In Colab\"/></a>"
      ]
    },
    {
      "cell_type": "code",
      "execution_count": null,
      "metadata": {
        "colab": {
          "base_uri": "https://localhost:8080/"
        },
        "id": "E2Ox8QOIoX7z",
        "outputId": "13536b82-7f0e-4b68-cbd3-9d23b63cd8ac"
      },
      "outputs": [
        {
          "output_type": "stream",
          "name": "stdout",
          "text": [
            "{'cat', 'cow', 'dog'}\n"
          ]
        }
      ],
      "source": [
        "\n",
        "#create a set.........\n",
        "set1={\"cow\",\"dog\",\"cat\"}\n",
        "print(set1)"
      ]
    },
    {
      "cell_type": "code",
      "source": [
        "#duplicate value not allowed...........\n",
        "set2={\"kavita\",\"raikwar\",\"kavita\"}\n",
        "print(set2)"
      ],
      "metadata": {
        "colab": {
          "base_uri": "https://localhost:8080/"
        },
        "id": "ULqa0ExDsgAo",
        "outputId": "3cff72f6-9b1b-48fe-d851-bb9454252f5a"
      },
      "execution_count": null,
      "outputs": [
        {
          "output_type": "stream",
          "name": "stdout",
          "text": [
            "{'kavita', 'raikwar'}\n"
          ]
        }
      ]
    },
    {
      "cell_type": "code",
      "source": [
        "#length of a set.............\n",
        "set3={\"john\",34,\"avi\",\"evie\"}\n",
        "print(len(set3))"
      ],
      "metadata": {
        "colab": {
          "base_uri": "https://localhost:8080/"
        },
        "id": "NjOdN5wVsgCS",
        "outputId": "37c696c4-37a9-4be0-9016-5fdafe11ba90"
      },
      "execution_count": null,
      "outputs": [
        {
          "output_type": "stream",
          "name": "stdout",
          "text": [
            "4\n"
          ]
        }
      ]
    },
    {
      "cell_type": "code",
      "source": [
        "#datatype...............\n",
        "set1={\"apple\",\"banana\",\"cherry\"}\n",
        "set2={34,56,78,29}\n",
        "set3={True,False,True}\n",
        "print(set1)\n",
        "print(set2)\n",
        "print(set3)\n"
      ],
      "metadata": {
        "colab": {
          "base_uri": "https://localhost:8080/"
        },
        "id": "FYjUn1zmsgFb",
        "outputId": "a08863dd-5ad8-4c5a-dcbd-1c4f3b25b68c"
      },
      "execution_count": null,
      "outputs": [
        {
          "output_type": "stream",
          "name": "stdout",
          "text": [
            "{'banana', 'cherry', 'apple'}\n",
            "{56, 34, 29, 78}\n",
            "{False, True}\n"
          ]
        }
      ]
    },
    {
      "cell_type": "code",
      "source": [
        "#A set contain different datatype,,,,,\n",
        "set1={\"abc\",34,True,4,\"male\"}\n",
        "print(set1)"
      ],
      "metadata": {
        "colab": {
          "base_uri": "https://localhost:8080/"
        },
        "id": "AMfMLxCPsgHC",
        "outputId": "acad1eb6-48ca-43a3-9233-2e3738a79d7f"
      },
      "execution_count": null,
      "outputs": [
        {
          "output_type": "stream",
          "name": "stdout",
          "text": [
            "{True, 34, 4, 'abc', 'male'}\n"
          ]
        }
      ]
    },
    {
      "cell_type": "code",
      "source": [
        "#type()..........\n",
        "#what is the data type os a set.........\n",
        "set1={\"cat\",\"dog\",\"bird\"}\n",
        "print(type(set1))"
      ],
      "metadata": {
        "colab": {
          "base_uri": "https://localhost:8080/"
        },
        "id": "1yEnr7BxsgKd",
        "outputId": "6684a2d7-cdc0-4caf-89b6-a7bb5334ec5a"
      },
      "execution_count": null,
      "outputs": [
        {
          "output_type": "stream",
          "name": "stdout",
          "text": [
            "<class 'set'>\n"
          ]
        }
      ]
    },
    {
      "cell_type": "code",
      "source": [
        "\n",
        "#access items..........\n",
        "myset={\"dog\",\"cat\",\"bird\"}\n",
        "for cat in this set\n",
        "print(myset)"
      ],
      "metadata": {
        "colab": {
          "base_uri": "https://localhost:8080/",
          "height": 130
        },
        "id": "Fb60UOaFsgL_",
        "outputId": "6c4f77b2-4702-47df-aadc-053418bc78cc"
      },
      "execution_count": null,
      "outputs": [
        {
          "output_type": "error",
          "ename": "SyntaxError",
          "evalue": "ignored",
          "traceback": [
            "\u001b[0;36m  File \u001b[0;32m\"<ipython-input-7-556aa811dd81>\"\u001b[0;36m, line \u001b[0;32m3\u001b[0m\n\u001b[0;31m    for cat in this set\u001b[0m\n\u001b[0m                      ^\u001b[0m\n\u001b[0;31mSyntaxError\u001b[0m\u001b[0;31m:\u001b[0m invalid syntax\n"
          ]
        }
      ]
    },
    {
      "cell_type": "code",
      "source": [
        "#check if banana is present in the set..........\n",
        "thisset={\"dog\",\"cow\"}\n",
        "print(\"banana\"in this set)"
      ],
      "metadata": {
        "colab": {
          "base_uri": "https://localhost:8080/",
          "height": 130
        },
        "id": "hkgdT2bQsgPk",
        "outputId": "90805af9-dc5d-4fd5-cdf1-94bf0e048338"
      },
      "execution_count": null,
      "outputs": [
        {
          "output_type": "error",
          "ename": "SyntaxError",
          "evalue": "ignored",
          "traceback": [
            "\u001b[0;36m  File \u001b[0;32m\"<ipython-input-20-d0dce31c0ba8>\"\u001b[0;36m, line \u001b[0;32m3\u001b[0m\n\u001b[0;31m    print(\"banana\"in this set)\u001b[0m\n\u001b[0m                            ^\u001b[0m\n\u001b[0;31mSyntaxError\u001b[0m\u001b[0;31m:\u001b[0m invalid syntax\n"
          ]
        }
      ]
    },
    {
      "cell_type": "code",
      "source": [
        "set={\"dog\",\"cat\"}\n",
        "#print(\"dog in this set\")\n",
        "set.add(\"cow\")\n",
        "print(set)"
      ],
      "metadata": {
        "id": "AAUgW7XQsgRx",
        "colab": {
          "base_uri": "https://localhost:8080/"
        },
        "outputId": "5aad8855-415d-4ae4-ba81-cc946ed2551f"
      },
      "execution_count": null,
      "outputs": [
        {
          "output_type": "stream",
          "name": "stdout",
          "text": [
            "{'cat', 'cow', 'dog'}\n"
          ]
        }
      ]
    },
    {
      "cell_type": "code",
      "source": [
        "set={\"cow\",\"dog\"}\n",
        "disp={\"bird\",\"animal\"}\n",
        "set.update(disp)\n",
        "print(set)"
      ],
      "metadata": {
        "colab": {
          "base_uri": "https://localhost:8080/"
        },
        "id": "7sv6MohXaRMz",
        "outputId": "2e009184-6824-4c6a-de91-d3347121f67a"
      },
      "execution_count": null,
      "outputs": [
        {
          "output_type": "stream",
          "name": "stdout",
          "text": [
            "{'cow', 'animal', 'bird', 'dog'}\n"
          ]
        }
      ]
    },
    {
      "cell_type": "code",
      "source": [],
      "metadata": {
        "id": "o6BVRO48aRPs"
      },
      "execution_count": null,
      "outputs": []
    },
    {
      "cell_type": "code",
      "source": [],
      "metadata": {
        "id": "--AY3mvzaRcm"
      },
      "execution_count": null,
      "outputs": []
    },
    {
      "cell_type": "code",
      "source": [],
      "metadata": {
        "id": "ApGWdhRLaRd8"
      },
      "execution_count": null,
      "outputs": []
    },
    {
      "cell_type": "code",
      "source": [],
      "metadata": {
        "id": "bzpU_63AaRiB"
      },
      "execution_count": null,
      "outputs": []
    }
  ]
}